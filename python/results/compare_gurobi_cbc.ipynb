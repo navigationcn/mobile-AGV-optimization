{
 "cells": [
  {
   "cell_type": "markdown",
   "metadata": {},
   "source": [
    "## Compare CBC and Gurobi\n",
    "\n",
    "Compare the computation time of the CBC and Gurobi solvers for the same scenarios"
   ]
  },
  {
   "cell_type": "code",
   "execution_count": 3,
   "metadata": {},
   "outputs": [
    {
     "ename": "ModuleNotFoundError",
     "evalue": "No module named 'matplotlib'",
     "output_type": "error",
     "traceback": [
      "\u001b[0;31m---------------------------------------------------------------------------\u001b[0m",
      "\u001b[0;31mModuleNotFoundError\u001b[0m                       Traceback (most recent call last)",
      "\u001b[0;32m<ipython-input-3-ce65d0eae11d>\u001b[0m in \u001b[0;36m<module>\u001b[0;34m\u001b[0m\n\u001b[1;32m      1\u001b[0m \u001b[0;32mimport\u001b[0m \u001b[0mlogging\u001b[0m\u001b[0;34m\u001b[0m\u001b[0;34m\u001b[0m\u001b[0m\n\u001b[0;32m----> 2\u001b[0;31m \u001b[0;32mimport\u001b[0m \u001b[0mmatplotlib\u001b[0m\u001b[0;34m.\u001b[0m\u001b[0mpyplot\u001b[0m \u001b[0;32mas\u001b[0m \u001b[0mplt\u001b[0m\u001b[0;34m\u001b[0m\u001b[0;34m\u001b[0m\u001b[0m\n\u001b[0m\u001b[1;32m      3\u001b[0m \u001b[0;32mimport\u001b[0m \u001b[0mmatplotlib\u001b[0m \u001b[0;32mas\u001b[0m \u001b[0mmpl\u001b[0m\u001b[0;34m\u001b[0m\u001b[0;34m\u001b[0m\u001b[0m\n\u001b[1;32m      4\u001b[0m \u001b[0mmpl\u001b[0m\u001b[0;34m.\u001b[0m\u001b[0mrcParams\u001b[0m\u001b[0;34m[\u001b[0m\u001b[0;34m'pdf.fonttype'\u001b[0m\u001b[0;34m]\u001b[0m \u001b[0;34m=\u001b[0m \u001b[0;36m42\u001b[0m\u001b[0;34m\u001b[0m\u001b[0;34m\u001b[0m\u001b[0m\n\u001b[1;32m      5\u001b[0m \u001b[0mmpl\u001b[0m\u001b[0;34m.\u001b[0m\u001b[0mrcParams\u001b[0m\u001b[0;34m[\u001b[0m\u001b[0;34m'ps.fonttype'\u001b[0m\u001b[0;34m]\u001b[0m \u001b[0;34m=\u001b[0m \u001b[0;36m42\u001b[0m\u001b[0;34m\u001b[0m\u001b[0;34m\u001b[0m\u001b[0m\n",
      "\u001b[0;31mModuleNotFoundError\u001b[0m: No module named 'matplotlib'"
     ]
    }
   ],
   "source": [
    "import logging\n",
    "import matplotlib.pyplot as plt\n",
    "import matplotlib as mpl\n",
    "mpl.rcParams['pdf.fonttype'] = 42\n",
    "mpl.rcParams['ps.fonttype'] = 42\n",
    "import numpy as np\n",
    "import random\n",
    "import seaborn as sns\n",
    "import pandas as pd\n",
    "import statistics as stat\n",
    "import os\n",
    "import yaml\n",
    "import glob"
   ]
  },
  {
   "cell_type": "markdown",
   "metadata": {},
   "source": [
    "### 1 Load Data"
   ]
  },
  {
   "cell_type": "code",
   "execution_count": 2,
   "metadata": {},
   "outputs": [
    {
     "name": "stdout",
     "output_type": "stream",
     "text": [
      "     AGVs  randseed solver  delay  horizon  total_time  \\\n",
      "0      60         7    GRB     10       10        5046   \n",
      "1      50        12    CBC     10        1        3534   \n",
      "2      50        14    CBC     10        1        4007   \n",
      "3      60        16    GRB     10        1        4874   \n",
      "4      60         7    CBC     10        1        5166   \n",
      "..    ...       ...    ...    ...      ...         ...   \n",
      "149    50         6    CBC     10        2        3460   \n",
      "150    50         9    CBC     10       15        3829   \n",
      "151    50        19    CBC     10        1        3534   \n",
      "152    50         1    GRB     10        2        3644   \n",
      "153    50        13    GRB     10       10        3435   \n",
      "\n",
      "                                         comp_time_vec  comp_time_avg  \\\n",
      "0    [[1.1526555939999952, 1.1490951370000033, 0.81...       0.333874   \n",
      "1    [[0.013490760000003377, 0.028106063999999265, ...       0.044818   \n",
      "2    [[0.0994577019999987, 0.21463387400000045, 0.0...       0.065019   \n",
      "3    [[0.01514189699999946, 0.00894328399999722, 0....       0.015924   \n",
      "4    [[0.018976706999993098, 0.025673246000010863, ...       0.117395   \n",
      "..                                                 ...            ...   \n",
      "149  [[0.009437755000000436, 0.02196123999999955, 0...       0.049682   \n",
      "150  [[1.066557668999998, 3.5250900619999967, 3.058...       0.337906   \n",
      "151  [[0.02284940800000257, 0.12089815699999917, 0....       0.051872   \n",
      "152  [[0.00852545499999735, 0.005120593000000895, 0...       0.015121   \n",
      "153  [[1.3392536869999958, 0.9389884080000002, 0.64...       0.116364   \n",
      "\n",
      "     comp_time_max  \n",
      "0         1.406843  \n",
      "1         0.558149  \n",
      "2         0.706679  \n",
      "3         0.323110  \n",
      "4         1.479773  \n",
      "..             ...  \n",
      "149       0.348962  \n",
      "150       4.431172  \n",
      "151       0.632974  \n",
      "152       0.305572  \n",
      "153       1.339254  \n",
      "\n",
      "[154 rows x 9 columns]\n"
     ]
    }
   ],
   "source": [
    "data = {\"AGVs\": [], \n",
    "        \"randseed\": [], \n",
    "        \"solver\": [],\n",
    "        \"delay\": [],         \n",
    "        \"horizon\": [], \n",
    "        \"total_time\": [], \n",
    "        \"comp_time_vec\": [],\n",
    "        \"comp_time_avg\": [],\n",
    "        \"comp_time_max\": []}\n",
    "\n",
    "yaml_list = glob.glob(\"ICAPS_solver_comp/*.yaml\")\n",
    "horizon_0_data = {\"AGVs\": [], \"randseed\": [], \"solver\": [], \"delay\": [], \"total_time\": []}\n",
    "\n",
    "for file in yaml_list:\n",
    "    split_filename = file.split(\"_\")\n",
    "    horizon = str(split_filename[-1].split(\".\")[0])\n",
    "    delay = str(split_filename[-3])\n",
    "    seed = str(split_filename[-5])\n",
    "    AGVs = str(split_filename[-7])\n",
    "    with open(file, \"r\") as stream:\n",
    "        try:\n",
    "            yaml_data = yaml.safe_load(stream)\n",
    "            cumulative_time = yaml_data[\"results\"][\"total time\"]\n",
    "            comp_time_vec = yaml_data[\"results\"][\"comp time\"][\"solve_time\"]\n",
    "            comp_time_avg = yaml_data[\"results\"][\"comp time\"][\"avg\"]\n",
    "            comp_time_max = yaml_data[\"results\"][\"comp time\"][\"max\"]\n",
    "            solver = yaml_data[\"parameters\"][\"solver\"]\n",
    "            data[\"AGVs\"].append(int(AGVs))\n",
    "            data[\"randseed\"].append(int(seed))\n",
    "            data[\"solver\"].append(solver)\n",
    "            data[\"delay\"].append(int(delay))\n",
    "            data[\"horizon\"].append(int(horizon))\n",
    "            data[\"total_time\"].append(int(cumulative_time))\n",
    "            data[\"comp_time_vec\"].append(comp_time_vec)\n",
    "            data[\"comp_time_avg\"].append(comp_time_avg)\n",
    "            data[\"comp_time_max\"].append(comp_time_max)\n",
    "\n",
    "        except yaml.YAMLError as exc:\n",
    "            print(exc)\n",
    "            \n",
    "columns = [\"AGVs\", \n",
    "           \"randseed\", \n",
    "           \"solver\",\n",
    "           \"delay\", \n",
    "           \"horizon\", \n",
    "           \"total_time\", \n",
    "           \"comp_time_vec\", \n",
    "           \"comp_time_avg\", \n",
    "           \"comp_time_max\"]\n",
    "\n",
    "df = pd.DataFrame(data, columns=columns)\n",
    "print(df)"
   ]
  },
  {
   "cell_type": "markdown",
   "metadata": {},
   "source": [
    "### 2 Compare Gurobi and CBC times"
   ]
  },
  {
   "cell_type": "code",
   "execution_count": 3,
   "metadata": {},
   "outputs": [
    {
     "name": "stdout",
     "output_type": "stream",
     "text": [
      "no match count: 0\n",
      "AGVs\n",
      "[60, 60, 50, 60, 60, 50, 60, 50, 60, 60, 50, 50, 60, 50, 50, 50, 60, 50, 60, 60, 50, 60, 50, 60, 60, 50, 60, 50, 50, 50, 60, 50, 50, 60, 60, 50, 60, 50, 60, 60, 50, 50, 60, 50, 50, 60, 50, 50, 50, 60, 60, 60, 50, 50, 50, 60, 60, 60, 60, 50, 60, 50, 60, 50, 50, 60, 50, 50, 50, 50, 60, 50, 50, 50, 50]\n",
      "randseed\n",
      "[7, 16, 3, 3, 18, 14, 13, 14, 13, 6, 6, 11, 20, 13, 3, 5, 1, 10, 2, 9, 4, 1, 9, 17, 19, 7, 13, 12, 1, 5, 11, 20, 2, 5, 6, 9, 10, 6, 3, 3, 16, 3, 5, 11, 7, 2, 19, 5, 18, 1, 7, 4, 5, 17, 6, 14, 12, 4, 5, 7, 6, 1, 15, 11, 5, 8, 4, 15, 8, 9, 5, 13, 2, 1, 13]\n",
      "delay\n",
      "[10, 10, 10, 10, 10, 10, 10, 10, 10, 10, 10, 10, 10, 10, 10, 10, 10, 10, 10, 10, 10, 10, 10, 10, 10, 10, 10, 10, 10, 10, 10, 10, 10, 10, 10, 10, 10, 10, 10, 10, 10, 10, 10, 10, 10, 10, 10, 10, 10, 10, 10, 10, 10, 10, 10, 10, 10, 10, 10, 10, 10, 10, 10, 10, 10, 10, 10, 10, 10, 10, 10, 10, 10, 10, 10]\n",
      "horizon\n",
      "[10, 1, 5, 1, 1, 10, 1, 1, 10, 5, 2, 10, 1, 15, 2, 10, 2, 1, 2, 1, 5, 1, 1, 1, 1, 10, 15, 1, 5, 2, 1, 1, 5, 1, 2, 15, 1, 1, 2, 5, 1, 1, 2, 1, 15, 5, 1, 5, 1, 5, 1, 5, 1, 1, 5, 1, 1, 2, 10, 1, 1, 1, 1, 15, 15, 1, 2, 1, 1, 10, 5, 1, 2, 2, 10]\n",
      "time_CBC\n",
      "[6.334095662999999, 1.2121245940000023, 1.2378753749999944, 1.0172282880000125, 0.5867544829999929, 8.13704903, 0.7638822370000042, 0.7066793460000014, 7.508353946999989, 1.392559938000005, 0.34896216900000354, 2.719154672000002, 0.4541441949999978, 7.424292015999995, 0.628424037000002, 3.9900807940000007, 1.2452114969999997, 0.2062305660000021, 0.5357060919999981, 1.2655798499999946, 2.917520922999998, 1.3831666519999999, 0.43424925499999745, 1.326914599999995, 0.6638855070000034, 2.2522092390000026, 37.59038570399997, 0.5581490489999936, 0.9889299989999998, 0.6346044340000034, 0.8429537429999954, 0.23454766599999743, 1.1909319589999967, 1.3174106609999967, 0.6331440619999995, 4.431171849000002, 0.5310619569999986, 0.34246722199999624, 1.2130181899999997, 1.69640532599999, 0.40854603200000383, 0.3835102290000023, 1.36320521399999, 0.3378562040000048, 7.464152396999999, 1.32860874, 0.6329735229999969, 1.006100129, 0.46390558899999945, 1.4555047529999996, 1.4797729299999958, 1.8455953379999954, 0.4752690990000019, 0.7602226959999996, 0.642575119, 1.8284010699999982, 0.817601719999999, 1.0157828999999907, 49.259709249000025, 0.5487744469999996, 0.5436252639999992, 0.3399108009999985, 1.3228608599999916, 3.4401626069999978, 15.509816296999986, 1.0149854080000011, 0.45375874100000146, 0.5327293490000002, 0.5020499210000011, 1.8473157110000002, 4.4120830650000045, 0.27739546099999757, 0.5008254080000043, 0.3561197209999989, 3.4928593240000083]\n",
      "time_GRB\n",
      "[1.4068425890000071, 0.3231103369999886, 0.654171852999994, 0.2248811030000013, 0.26662256099999837, 3.1928889230000017, 0.2347881750000056, 0.3097585930000051, 2.0194315399999994, 0.6433993790000017, 0.14441871200000378, 0.6698458919999979, 0.2240767430000048, 3.5345169080000005, 0.37086087899999853, 1.7220646349999953, 0.5402901080000007, 0.04701671200000135, 0.2474736739999983, 0.39212674699999184, 1.0474689949999956, 0.4280028689999966, 0.19370015600000556, 0.5737256470000034, 0.15312065199999836, 0.9609659889999946, 14.49390699300001, 0.1885298959999986, 0.453245656, 0.14076238500000215, 0.23398878599999762, 0.057403073999999776, 0.5007153030000033, 0.47867545399999756, 0.20730418899999847, 2.130562079999997, 0.2440763569999973, 0.10382546900000023, 0.4328852729999966, 0.9259181099999978, 0.1360027029999955, 0.2905259980000068, 0.8336505729999999, 0.15538690999999005, 2.872534881000007, 0.851533603, 0.07905052400000301, 0.6804613350000039, 0.37124965800000354, 0.8978628380000018, 0.4297963490000001, 1.2856150559999975, 0.174767322000001, 0.19953121500000037, 0.4760263460000047, 0.2615170130000024, 0.3072683449999971, 0.3426042250000023, 5.529478127999994, 0.14322376999999165, 0.12944729299999835, 0.2551120800000035, 0.783034489000002, 1.6685005289999992, 5.256419627999989, 0.48158932599999105, 0.3887663300000028, 0.2413999289999964, 0.15536305200000555, 1.2569627929999996, 1.5482943709999972, 0.0822160549999893, 0.3150754190000029, 0.3055719410000002, 1.3392536869999958]\n",
      "factor\n",
      "[4.502348530337225, 3.751426231838708, 1.892278564605264, 4.523404921221889, 2.2006932976688214, 2.548491108282753, 3.2534953559734685, 2.281387383497025, 3.7180532235323964, 2.164378741186198, 2.416322401490427, 4.059373513333438, 2.026735077098064, 2.1005111049818166, 1.6945007483520647, 2.3170331199560414, 2.3047090416099163, 4.3863247179002265, 2.1646993126226497, 3.2274764720398452, 2.7853052805634695, 3.231676122245832, 2.2418632177043007, 2.3128033528540985, 4.33570193392339, 2.343692976422306, 2.5935302139136573, 2.9605333734443784, 2.18188522252489, 4.508338175713588, 3.6025390678338063, 4.085977451312074, 2.3784612770262963, 2.7522001598185217, 3.054178813530894, 2.079813533994751, 2.1758025378918795, 3.2984895257250946, 2.8021701491332767, 1.832133217482909, 3.0039552375662515, 1.320054768385972, 1.6352237473961289, 2.1742899964998754, 2.598454920903006, 1.5602540349778773, 8.007202115446734, 1.4785559108953548, 1.249578495234587, 1.6210769522905644, 3.442963006649448, 1.4355738363412562, 2.71943915808242, 3.8100439372355757, 1.3498730152217113, 6.991518635921333, 2.6608719489149024, 2.9648872543821776, 8.908563902180983, 3.831587780436387, 4.199587734909266, 1.332397905265771, 1.6894030576985073, 2.061828897987721, 2.9506427177887438, 2.1075745520157563, 1.1671760283355768, 2.2068330807173027, 3.2314627869178523, 1.469666183667221, 2.8496409646896614, 3.373981651151149, 1.5895413535893756, 1.1654202275070755, 2.608063997064075]\n"
     ]
    }
   ],
   "source": [
    "df_CBC = df[df.solver == \"CBC\"]\n",
    "df_GRB = df[df.solver == \"GRB\"]\n",
    "\n",
    "# print(df_CBC)\n",
    "# print(df_GRB)\n",
    "\n",
    "# dataframe for comparison\n",
    "compdata = {\"AGVs\": [], \n",
    "            \"randseed\": [], \n",
    "            \"delay\": [], \n",
    "            \"horizon\": [], \n",
    "            \"time_CBC\": [], \n",
    "            \"time_GRB\": [], \n",
    "            \"factor\": []}\n",
    "\n",
    "no_match_count = 0\n",
    "\n",
    "# loop through all scenarios solved with CBC\n",
    "for index, row in df_GRB.iterrows():\n",
    "    AGVs = row[\"AGVs\"]\n",
    "    randseed = row[\"randseed\"]\n",
    "    delay = row[\"delay\"]\n",
    "    horizon = row[\"horizon\"]\n",
    "    total_time_GRB = row[\"comp_time_max\"]\n",
    "    try: \n",
    "        # find corresponding scenario in CBC dataset\n",
    "        CBC_data = df_CBC[(df_CBC.AGVs == AGVs) & (df_CBC.randseed == randseed) & (df_CBC.horizon == horizon) & (df_CBC.delay == delay)].iloc[0]\n",
    "        \n",
    "        total_time_CBC = float(CBC_data[\"comp_time_max\"])\n",
    "        factor = float(total_time_CBC)/float(total_time_GRB)\n",
    "        \n",
    "        compdata[\"AGVs\"].append(int(AGVs))\n",
    "        compdata[\"randseed\"].append(int(randseed))\n",
    "        compdata[\"delay\"].append(int(delay))\n",
    "        compdata[\"horizon\"].append(int(horizon))\n",
    "        compdata[\"time_CBC\"].append(float(total_time_CBC))\n",
    "        compdata[\"time_GRB\"].append(float(total_time_GRB))\n",
    "        compdata[\"factor\"].append(float(factor))\n",
    "    except IndexError:\n",
    "        # no match found\n",
    "        no_match_count += 1\n",
    "        continue\n",
    "        \n",
    "print(\"no match count: {}\".format(no_match_count))\n",
    "# print(compdata[\"factor\"])\n",
    "for row in compdata:\n",
    "    \n",
    "    print(row)\n",
    "    print(compdata[row])\n",
    "#     AGVs = compdata[row]\n",
    "#     print(AGVs)\n",
    "#     randseed = row[1]\n",
    "#     delay = row[2]\n",
    "#     horizon = row[3]\n",
    "#     factor = row[4]\n",
    "#     statss = AGVs + \" \" + randseed + \" \" + delay + \" \" + horizon \n",
    "#     print(row)\n",
    "#     print(AGVs)\n",
    "#     print(\" - {number:.0f} - {stats}\".format(number=factor, stats=statss))\n",
    "    "
   ]
  },
  {
   "cell_type": "code",
   "execution_count": null,
   "metadata": {},
   "outputs": [],
   "source": []
  }
 ],
 "metadata": {
  "kernelspec": {
   "display_name": "Python 3",
   "language": "python",
   "name": "python3"
  },
  "language_info": {
   "codemirror_mode": {
    "name": "ipython",
    "version": 3
   },
   "file_extension": ".py",
   "mimetype": "text/x-python",
   "name": "python",
   "nbconvert_exporter": "python",
   "pygments_lexer": "ipython3",
   "version": "3.6.12"
  }
 },
 "nbformat": 4,
 "nbformat_minor": 4
}
