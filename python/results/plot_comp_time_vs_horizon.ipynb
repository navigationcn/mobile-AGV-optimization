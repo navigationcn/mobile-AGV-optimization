{
 "cells": [
  {
   "cell_type": "code",
   "execution_count": 1,
   "metadata": {},
   "outputs": [],
   "source": [
    "import logging\n",
    "import matplotlib.pyplot as plt\n",
    "import matplotlib as mpl\n",
    "mpl.rcParams['pdf.fonttype'] = 42\n",
    "mpl.rcParams['ps.fonttype'] = 42\n",
    "import numpy as np\n",
    "import random\n",
    "import seaborn as sns\n",
    "import pandas as pd\n",
    "import statistics as stat\n",
    "import os\n",
    "import yaml\n",
    "import glob\n",
    "\n",
    "# WHERE TO SAVE THE FIGURES?\n",
    "save_loc = \"/home/alberndt/Documents/research/bosch/figures/\""
   ]
  },
  {
   "cell_type": "markdown",
   "metadata": {},
   "source": [
    "### 1 Load Data"
   ]
  },
  {
   "cell_type": "code",
   "execution_count": 5,
   "metadata": {},
   "outputs": [
    {
     "name": "stdout",
     "output_type": "stream",
     "text": [
      "      AGVs  randseed  delay  horizon  total_time  improvement  \\\n",
      "0       60        13      3        2        3783         3783   \n",
      "1       60         0      3        5        4254         4254   \n",
      "2       40        11     20        1        2671         2671   \n",
      "3       60        22     10        2        5101         5101   \n",
      "4       50         0      1        4        3020         3020   \n",
      "...    ...       ...    ...      ...         ...          ...   \n",
      "2743    40        11     10        0        2543         2543   \n",
      "2744    60        28      5        5        3866         3866   \n",
      "2745    30         8     20        4        2542         2542   \n",
      "2746    60        21     10        2        4967         4967   \n",
      "2747    50        24      5        1        3096         3096   \n",
      "\n",
      "                                          comp_time_vec  comp_time_avg  \\\n",
      "0     [[0.18550990500000353, 0.1744489530000024, 0.2...       0.077854   \n",
      "1     [[1.1187443609999974, 1.0838291840000025, 2.00...       0.210590   \n",
      "2     [[0.1033221649999998, 0.11584075299999874, 0.0...       0.011394   \n",
      "3     [[0.02685911900000093, 0.02012259300000352, 0....       0.079954   \n",
      "4     [[0.43123074800000083, 0.38133890800000003, 1....       0.092211   \n",
      "...                                                 ...            ...   \n",
      "2743  [[0.013201356999999803, 0.009041321999999852, ...       0.002147   \n",
      "2744  [[1.1193493110000006, 1.0925076560000022, 0.65...       0.196377   \n",
      "2745  [[0.011142707000000307, 0.006270716000000398, ...       0.032173   \n",
      "2746  [[0.4317778009999955, 0.441059512999999, 0.351...       0.069097   \n",
      "2747  [[0.018095505000001566, 0.012942691999999312, ...       0.036155   \n",
      "\n",
      "      comp_time_max  \n",
      "0          0.653873  \n",
      "1          2.003593  \n",
      "2          0.162926  \n",
      "3          0.991961  \n",
      "4          1.265087  \n",
      "...             ...  \n",
      "2743       0.013201  \n",
      "2744       3.518750  \n",
      "2745       0.222723  \n",
      "2746       0.577070  \n",
      "2747       0.357113  \n",
      "\n",
      "[2748 rows x 9 columns]\n"
     ]
    }
   ],
   "source": [
    "data = {\"AGVs\": [], \n",
    "        \"randseed\": [], \n",
    "        \"delay\": [], \n",
    "        \"horizon\": [], \n",
    "        \"total_time\": [], \n",
    "        \"improvement\": [],\n",
    "        \"comp_time_vec\": [],\n",
    "        \"comp_time_avg\": [],\n",
    "        \"comp_time_max\": []}\n",
    "\n",
    "yaml_list = glob.glob(\"ICAPS/*.yaml\")\n",
    "horizon_0_data = {\"AGVs\": [], \"randseed\": [], \"delay\": [], \"total_time\": []}\n",
    "\n",
    "for file in yaml_list:\n",
    "    split_filename = file.split(\"_\")\n",
    "    horizon = str(split_filename[-1].split(\".\")[0])\n",
    "    delay = str(split_filename[-3])\n",
    "    seed = str(split_filename[-5])\n",
    "    AGVs = str(split_filename[-7])\n",
    "    with open(file, \"r\") as stream:\n",
    "        try:\n",
    "            yaml_data = yaml.safe_load(stream)\n",
    "            cumulative_time = yaml_data[\"results\"][\"total time\"]\n",
    "            comp_time_vec = yaml_data[\"results\"][\"comp time\"][\"solve_time\"]\n",
    "            comp_time_avg = yaml_data[\"results\"][\"comp time\"][\"avg\"]\n",
    "            comp_time_max = yaml_data[\"results\"][\"comp time\"][\"max\"]\n",
    "            data[\"AGVs\"].append(int(AGVs))\n",
    "            data[\"randseed\"].append(int(seed))\n",
    "            data[\"delay\"].append(int(delay))\n",
    "            data[\"horizon\"].append(int(horizon))\n",
    "            data[\"total_time\"].append(int(cumulative_time))\n",
    "            data[\"improvement\"].append(int(cumulative_time))\n",
    "            data[\"comp_time_vec\"].append(comp_time_vec)\n",
    "            data[\"comp_time_avg\"].append(comp_time_avg)\n",
    "            data[\"comp_time_max\"].append(comp_time_max)\n",
    "\n",
    "        except yaml.YAMLError as exc:\n",
    "            print(exc)\n",
    "            \n",
    "columns = [\"AGVs\", \n",
    "           \"randseed\", \n",
    "           \"delay\", \n",
    "           \"horizon\", \n",
    "           \"total_time\", \n",
    "           \"improvement\", \n",
    "           \"comp_time_vec\", \n",
    "           \"comp_time_avg\", \n",
    "           \"comp_time_max\"]\n",
    "\n",
    "df = pd.DataFrame(data, columns=columns)\n",
    "print(df)"
   ]
  },
  {
   "cell_type": "markdown",
   "metadata": {},
   "source": [
    "### 2 Plot horizon vs avg computation time "
   ]
  },
  {
   "cell_type": "code",
   "execution_count": 11,
   "metadata": {},
   "outputs": [
    {
     "name": "stderr",
     "output_type": "stream",
     "text": [
      "/home/alberndt/anaconda3/envs/sadg/lib/python3.6/site-packages/seaborn/_core.py:1187: UserWarning: Data has no positive values, and therefore cannot be log-scaled.\n",
      "  x_visible = any(t.get_visible() for t in ax.get_xticklabels())\n",
      "/home/alberndt/anaconda3/envs/sadg/lib/python3.6/site-packages/ipykernel_launcher.py:25: UserWarning: Data has no positive values, and therefore cannot be log-scaled.\n"
     ]
    },
    {
     "data": {
      "image/png": "[encoded data removed]",
      "text/plain": [
       "<Figure size 432x288 with 1 Axes>"
      ]
     },
     "metadata": {},
     "output_type": "display_data"
    }
   ],
   "source": [
    "mpl.rcParams['pdf.fonttype'] = 42\n",
    "mpl.rcParams['ps.fonttype'] = 42\n",
    "\n",
    "sns.set(style=\"ticks\")\n",
    "sns.set_palette(\"bright\")\n",
    "sns_col = sns.color_palette(\"bright\", n_colors=5)\n",
    "\n",
    "plt.figure(1)\n",
    "ax = plt.gca()\n",
    "ax.set(yscale=\"log\")\n",
    "sns.lineplot(x=\"horizon\", y=\"comp_time_avg\",\n",
    "            hue=\"AGVs\",\n",
    "            ci=100,\n",
    "            data=df,\n",
    "            palette=sns_col)\n",
    "plt.xlabel(\"Horizon H\")\n",
    "plt.ylabel(\"Average computation time [s]\")\n",
    "plt.grid()\n",
    "\n",
    "ax = plt.gca()\n",
    "ax.figure.set_size_inches(6,4)\n",
    "plt.subplots_adjust(left=0.12, bottom=0.13, right=0.98, top=0.98, wspace=None, hspace=None)\n",
    "\n",
    "save_loc = \"/home/alberndt/Documents/research/bosch/figures/\"\n",
    "plt.savefig(save_loc + \"avg_comp_time.pdf\", format=\"pdf\", pad_inches=0.01, transparent=True)"
   ]
  },
  {
   "cell_type": "markdown",
   "metadata": {},
   "source": [
    "### 3 Plot max computation time"
   ]
  },
  {
   "cell_type": "code",
   "execution_count": 13,
   "metadata": {},
   "outputs": [
    {
     "data": {
      "image/png": "[encoded data removed]",
      "text/plain": [
       "<Figure size 432x288 with 1 Axes>"
      ]
     },
     "metadata": {},
     "output_type": "display_data"
    }
   ],
   "source": [
    "sns.set(style=\"ticks\")\n",
    "sns.set_palette(\"bright\")\n",
    "sns_col = sns.color_palette(\"bright\", n_colors=5)\n",
    "\n",
    "mpl.rcParams['pdf.fonttype'] = 42\n",
    "mpl.rcParams['ps.fonttype'] = 42\n",
    "\n",
    "plt.figure(1)\n",
    "ax = plt.gca()\n",
    "ax.set(yscale=\"log\")\n",
    "sns.lineplot(x=\"horizon\", y=\"comp_time_max\",\n",
    "            hue=\"AGVs\",\n",
    "            ci=100,\n",
    "            data=df,\n",
    "            palette=sns_col)\n",
    "\n",
    "plt.xlabel(\"Horizon H\")\n",
    "plt.ylabel(\"Peak computation time $[s]$\")\n",
    "plt.grid()\n",
    "\n",
    "ax = plt.gca()\n",
    "ax.figure.set_size_inches(6,4)\n",
    "plt.subplots_adjust(left=0.12, bottom=0.13, right=0.98, top=0.98, wspace=None, hspace=None)\n",
    "\n",
    "plt.savefig(save_loc + \"max_comp_time.pdf\", format=\"pdf\", pad_inches=0.01, transparent=True)"
   ]
  },
  {
   "cell_type": "markdown",
   "metadata": {},
   "source": []
  }
 ],
 "metadata": {
  "kernelspec": {
   "display_name": "Python 3",
   "language": "python",
   "name": "python3"
  },
  "language_info": {
   "codemirror_mode": {
    "name": "ipython",
    "version": 3
   },
   "file_extension": ".py",
   "mimetype": "text/x-python",
   "name": "python",
   "nbconvert_exporter": "python",
   "pygments_lexer": "ipython3",
   "version": "3.6.12"
  }
 },
 "nbformat": 4,
 "nbformat_minor": 4
}
