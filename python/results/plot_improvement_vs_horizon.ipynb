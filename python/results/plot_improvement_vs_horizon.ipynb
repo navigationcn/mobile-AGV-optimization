{
 "cells": [
  {
   "cell_type": "markdown",
   "metadata": {},
   "source": [
    "## Improvement vs Horizon for Delay k=1, k=10"
   ]
  },
  {
   "cell_type": "markdown",
   "metadata": {},
   "source": [
    "This notebook imports the obtained results for varying horizon lengths, AGV group sizes and random start/goal/delay configurations."
   ]
  },
  {
   "cell_type": "code",
   "execution_count": 1,
   "metadata": {},
   "outputs": [],
   "source": [
    "import logging\n",
    "import matplotlib.pyplot as plt\n",
    "import matplotlib as mpl\n",
    "mpl.rcParams['pdf.fonttype'] = 42\n",
    "mpl.rcParams['ps.fonttype'] = 42\n",
    "import numpy as np\n",
    "import random\n",
    "import seaborn as sns\n",
    "import pandas as pd\n",
    "import statistics as stat\n",
    "import os\n",
    "import yaml\n",
    "import glob\n",
    "\n",
    "# WHERE TO SAVE THE FIGURES?\n",
    "# save_loc_iros = \"/home/alberndt/Documents/reseach/bosch/figures\"\n",
    "save_loc_icaps = \"/home/alberndt/Documents/research/bosch/figures/\""
   ]
  },
  {
   "cell_type": "markdown",
   "metadata": {},
   "source": [
    "### 1 Load Data: ICAPS_selective"
   ]
  },
  {
   "cell_type": "code",
   "execution_count": 2,
   "metadata": {},
   "outputs": [],
   "source": [
    "data = {\"AGVs\": [], \"randseed\": [], \"delay\": [], \"horizon\": [], \"total_time\": [], \"improvement\": []}\n",
    "\n",
    "yaml_list = glob.glob(\"ICAPS/*.yaml\")\n",
    "horizon_0_data = {\"AGVs\": [], \"randseed\": [], \"delay\": [], \"total_time\": []}\n",
    "\n",
    "for file in yaml_list:\n",
    "    split_filename = file.split(\"_\")\n",
    "    horizon = str(split_filename[-1].split(\".\")[0])\n",
    "    delay = str(split_filename[-3])\n",
    "    seed = str(split_filename[-5])\n",
    "    AGVs = str(split_filename[-7])\n",
    "    with open(file, \"r\") as stream:\n",
    "        try:\n",
    "            yaml_data = yaml.safe_load(stream)\n",
    "            cumulative_time = yaml_data[\"results\"][\"total time\"]\n",
    "            data[\"AGVs\"].append(int(AGVs))\n",
    "            data[\"randseed\"].append(int(seed))\n",
    "            data[\"delay\"].append(int(delay))\n",
    "            data[\"horizon\"].append(int(horizon))\n",
    "            data[\"total_time\"].append(int(cumulative_time))\n",
    "            data[\"improvement\"].append(int(cumulative_time))\n",
    "\n",
    "        except yaml.YAMLError as exc:\n",
    "            print(exc)"
   ]
  },
  {
   "cell_type": "markdown",
   "metadata": {},
   "source": [
    "### 2 Calculate Improvement Metric"
   ]
  },
  {
   "cell_type": "code",
   "execution_count": 3,
   "metadata": {},
   "outputs": [
    {
     "name": "stdout",
     "output_type": "stream",
     "text": [
      "No baseline count: 562\n",
      "      AGVs  randseed  delay  horizon  total_time  improvement\n",
      "0       50        25     50        5        4013    12.548671\n",
      "1       70        25      3        2        4013     1.598295\n",
      "2       30        25     20        0        4013     0.000000\n",
      "3       40        25     30        3        4013    10.546697\n",
      "4       30        25     40       15        4013    40.199416\n",
      "...    ...       ...    ...      ...         ...          ...\n",
      "5710    30        25     50        0        4013     0.000000\n",
      "5711    50        25     40        1        4013    21.997004\n",
      "5712    30        25     30       11        4013     6.757991\n",
      "5713    30        25     10        0        4013     0.000000\n",
      "5714    50        25     10        0        4013     0.000000\n",
      "\n",
      "[5715 rows x 6 columns]\n"
     ]
    }
   ],
   "source": [
    "df = pd.DataFrame(data, columns=[\"AGVs\", \"randseed\", \"delay\", \"horizon\", \"total_time\", \"improvement\"])\n",
    "# Get the 0 horizon data\n",
    "df_0 = df[df.horizon == 0]\n",
    "\n",
    "newdata = {\"AGVs\": [], \"randseed\": [], \"delay\": [], \"horizon\": [], \"total_time\": [], \"improvement\": []}\n",
    "\n",
    "no_baseline_cnt = 0\n",
    "\n",
    "for index, row in df.iterrows():\n",
    "    AGVs = row[\"AGVs\"]\n",
    "    randseed = row[\"randseed\"]\n",
    "    delay = row[\"delay\"]\n",
    "    horizon = row[\"horizon\"]\n",
    "    total_time = row[\"total_time\"]\n",
    "    \n",
    "    try: \n",
    "        baseline = df_0[(df_0.AGVs == AGVs) & (df_0.randseed == randseed) & (df_0.delay == delay)].iloc[0]\n",
    "        baseline_time = baseline[\"total_time\"]\n",
    "        improvement = 100*(baseline_time-total_time)/baseline_time\n",
    "        newdata[\"AGVs\"].append(int(AGVs))\n",
    "        newdata[\"randseed\"].append(int(seed))\n",
    "        newdata[\"delay\"].append(int(delay))\n",
    "        newdata[\"horizon\"].append(int(horizon))\n",
    "        newdata[\"total_time\"].append(int(cumulative_time))\n",
    "        newdata[\"improvement\"].append(float(improvement))\n",
    "    except IndexError:\n",
    "        # if no baseline (Horizon = 0) is found, do not add this data: cannot be compared\n",
    "        no_baseline_cnt += 1\n",
    "        \n",
    "print(\"No baseline count: {}\".format(no_baseline_cnt))\n",
    "\n",
    "dfnew = pd.DataFrame(newdata, columns=[\"AGVs\", \"randseed\", \"delay\", \"horizon\", \"total_time\", \"improvement\"])\n",
    "print(dfnew)"
   ]
  },
  {
   "cell_type": "markdown",
   "metadata": {},
   "source": [
    "### 3 Horizon to Improvement"
   ]
  },
  {
   "cell_type": "markdown",
   "metadata": {},
   "source": [
    "#### Delay k=1"
   ]
  },
  {
   "cell_type": "code",
   "execution_count": 4,
   "metadata": {},
   "outputs": [
    {
     "name": "stdout",
     "output_type": "stream",
     "text": [
      "Delay k = 1\n",
      " sim count for 30 AGVs: 123\n",
      " sim count for 40 AGVs: 112\n",
      " sim count for 50 AGVs: 101\n",
      " sim count for 60 AGVs: 83\n",
      " sim count for 70 AGVs: 60\n"
     ]
    },
    {
     "ename": "ValueError",
     "evalue": "The palette list has the wrong number of colors.",
     "output_type": "error",
     "traceback": [
      "\u001b[0;31m---------------------------------------------------------------------------\u001b[0m",
      "\u001b[0;31mValueError\u001b[0m                                Traceback (most recent call last)",
      "\u001b[0;32m<ipython-input-4-068a01225517>\u001b[0m in \u001b[0;36m<module>\u001b[0;34m\u001b[0m\n\u001b[1;32m     24\u001b[0m             \u001b[0mhue\u001b[0m\u001b[0;34m=\u001b[0m\u001b[0;34m\"AGVs\"\u001b[0m\u001b[0;34m,\u001b[0m\u001b[0;34m\u001b[0m\u001b[0;34m\u001b[0m\u001b[0m\n\u001b[1;32m     25\u001b[0m             \u001b[0mdata\u001b[0m\u001b[0;34m=\u001b[0m\u001b[0mdf_improv\u001b[0m\u001b[0;34m,\u001b[0m\u001b[0;34m\u001b[0m\u001b[0;34m\u001b[0m\u001b[0m\n\u001b[0;32m---> 26\u001b[0;31m             palette=sns_col)\n\u001b[0m\u001b[1;32m     27\u001b[0m \u001b[0;34m\u001b[0m\u001b[0m\n\u001b[1;32m     28\u001b[0m \u001b[0mplt\u001b[0m\u001b[0;34m.\u001b[0m\u001b[0mxlabel\u001b[0m\u001b[0;34m(\u001b[0m\u001b[0;34m\"Horizon H\"\u001b[0m\u001b[0;34m)\u001b[0m\u001b[0;34m\u001b[0m\u001b[0;34m\u001b[0m\u001b[0m\n",
      "\u001b[0;32m~/anaconda3/envs/plot_env/lib/python3.6/site-packages/seaborn/relational.py\u001b[0m in \u001b[0;36mlineplot\u001b[0;34m(x, y, hue, size, style, data, palette, hue_order, hue_norm, sizes, size_order, size_norm, dashes, markers, style_order, units, estimator, ci, n_boot, seed, sort, err_style, err_kws, legend, ax, **kwargs)\u001b[0m\n\u001b[1;32m   1129\u001b[0m         \u001b[0mdashes\u001b[0m\u001b[0;34m=\u001b[0m\u001b[0mdashes\u001b[0m\u001b[0;34m,\u001b[0m \u001b[0mmarkers\u001b[0m\u001b[0;34m=\u001b[0m\u001b[0mmarkers\u001b[0m\u001b[0;34m,\u001b[0m \u001b[0mstyle_order\u001b[0m\u001b[0;34m=\u001b[0m\u001b[0mstyle_order\u001b[0m\u001b[0;34m,\u001b[0m\u001b[0;34m\u001b[0m\u001b[0;34m\u001b[0m\u001b[0m\n\u001b[1;32m   1130\u001b[0m         \u001b[0munits\u001b[0m\u001b[0;34m=\u001b[0m\u001b[0munits\u001b[0m\u001b[0;34m,\u001b[0m \u001b[0mestimator\u001b[0m\u001b[0;34m=\u001b[0m\u001b[0mestimator\u001b[0m\u001b[0;34m,\u001b[0m \u001b[0mci\u001b[0m\u001b[0;34m=\u001b[0m\u001b[0mci\u001b[0m\u001b[0;34m,\u001b[0m \u001b[0mn_boot\u001b[0m\u001b[0;34m=\u001b[0m\u001b[0mn_boot\u001b[0m\u001b[0;34m,\u001b[0m \u001b[0mseed\u001b[0m\u001b[0;34m=\u001b[0m\u001b[0mseed\u001b[0m\u001b[0;34m,\u001b[0m\u001b[0;34m\u001b[0m\u001b[0;34m\u001b[0m\u001b[0m\n\u001b[0;32m-> 1131\u001b[0;31m         \u001b[0msort\u001b[0m\u001b[0;34m=\u001b[0m\u001b[0msort\u001b[0m\u001b[0;34m,\u001b[0m \u001b[0merr_style\u001b[0m\u001b[0;34m=\u001b[0m\u001b[0merr_style\u001b[0m\u001b[0;34m,\u001b[0m \u001b[0merr_kws\u001b[0m\u001b[0;34m=\u001b[0m\u001b[0merr_kws\u001b[0m\u001b[0;34m,\u001b[0m \u001b[0mlegend\u001b[0m\u001b[0;34m=\u001b[0m\u001b[0mlegend\u001b[0m\u001b[0;34m,\u001b[0m\u001b[0;34m\u001b[0m\u001b[0;34m\u001b[0m\u001b[0m\n\u001b[0m\u001b[1;32m   1132\u001b[0m     )\n\u001b[1;32m   1133\u001b[0m \u001b[0;34m\u001b[0m\u001b[0m\n",
      "\u001b[0;32m~/anaconda3/envs/plot_env/lib/python3.6/site-packages/seaborn/relational.py\u001b[0m in \u001b[0;36m__init__\u001b[0;34m(self, x, y, hue, size, style, data, palette, hue_order, hue_norm, sizes, size_order, size_norm, dashes, markers, style_order, units, estimator, ci, n_boot, seed, sort, err_style, err_kws, legend)\u001b[0m\n\u001b[1;32m    705\u001b[0m         )\n\u001b[1;32m    706\u001b[0m \u001b[0;34m\u001b[0m\u001b[0m\n\u001b[0;32m--> 707\u001b[0;31m         \u001b[0mself\u001b[0m\u001b[0;34m.\u001b[0m\u001b[0mparse_hue\u001b[0m\u001b[0;34m(\u001b[0m\u001b[0mplot_data\u001b[0m\u001b[0;34m[\u001b[0m\u001b[0;34m\"hue\"\u001b[0m\u001b[0;34m]\u001b[0m\u001b[0;34m,\u001b[0m \u001b[0mpalette\u001b[0m\u001b[0;34m,\u001b[0m \u001b[0mhue_order\u001b[0m\u001b[0;34m,\u001b[0m \u001b[0mhue_norm\u001b[0m\u001b[0;34m)\u001b[0m\u001b[0;34m\u001b[0m\u001b[0;34m\u001b[0m\u001b[0m\n\u001b[0m\u001b[1;32m    708\u001b[0m         \u001b[0mself\u001b[0m\u001b[0;34m.\u001b[0m\u001b[0mparse_size\u001b[0m\u001b[0;34m(\u001b[0m\u001b[0mplot_data\u001b[0m\u001b[0;34m[\u001b[0m\u001b[0;34m\"size\"\u001b[0m\u001b[0;34m]\u001b[0m\u001b[0;34m,\u001b[0m \u001b[0msizes\u001b[0m\u001b[0;34m,\u001b[0m \u001b[0msize_order\u001b[0m\u001b[0;34m,\u001b[0m \u001b[0msize_norm\u001b[0m\u001b[0;34m)\u001b[0m\u001b[0;34m\u001b[0m\u001b[0;34m\u001b[0m\u001b[0m\n\u001b[1;32m    709\u001b[0m         \u001b[0mself\u001b[0m\u001b[0;34m.\u001b[0m\u001b[0mparse_style\u001b[0m\u001b[0;34m(\u001b[0m\u001b[0mplot_data\u001b[0m\u001b[0;34m[\u001b[0m\u001b[0;34m\"style\"\u001b[0m\u001b[0;34m]\u001b[0m\u001b[0;34m,\u001b[0m \u001b[0mmarkers\u001b[0m\u001b[0;34m,\u001b[0m \u001b[0mdashes\u001b[0m\u001b[0;34m,\u001b[0m \u001b[0mstyle_order\u001b[0m\u001b[0;34m)\u001b[0m\u001b[0;34m\u001b[0m\u001b[0;34m\u001b[0m\u001b[0m\n",
      "\u001b[0;32m~/anaconda3/envs/plot_env/lib/python3.6/site-packages/seaborn/relational.py\u001b[0m in \u001b[0;36mparse_hue\u001b[0;34m(self, data, palette, order, norm)\u001b[0m\n\u001b[1;32m    376\u001b[0m                 \u001b[0;31m# overcome differences in the way pandas\u001b[0m\u001b[0;34m\u001b[0m\u001b[0;34m\u001b[0m\u001b[0;34m\u001b[0m\u001b[0m\n\u001b[1;32m    377\u001b[0m                 \u001b[0;31m# externalizes numpy datetime64\u001b[0m\u001b[0;34m\u001b[0m\u001b[0;34m\u001b[0m\u001b[0;34m\u001b[0m\u001b[0m\n\u001b[0;32m--> 378\u001b[0;31m                 \u001b[0mlist\u001b[0m\u001b[0;34m(\u001b[0m\u001b[0mdata\u001b[0m\u001b[0;34m)\u001b[0m\u001b[0;34m,\u001b[0m \u001b[0morder\u001b[0m\u001b[0;34m,\u001b[0m \u001b[0mpalette\u001b[0m\u001b[0;34m\u001b[0m\u001b[0;34m\u001b[0m\u001b[0m\n\u001b[0m\u001b[1;32m    379\u001b[0m             )\n\u001b[1;32m    380\u001b[0m \u001b[0;34m\u001b[0m\u001b[0m\n",
      "\u001b[0;32m~/anaconda3/envs/plot_env/lib/python3.6/site-packages/seaborn/relational.py\u001b[0m in \u001b[0;36mcategorical_to_palette\u001b[0;34m(self, data, order, palette)\u001b[0m\n\u001b[1;32m    219\u001b[0m                 \u001b[0;32mif\u001b[0m \u001b[0mlen\u001b[0m\u001b[0;34m(\u001b[0m\u001b[0mpalette\u001b[0m\u001b[0;34m)\u001b[0m \u001b[0;34m!=\u001b[0m \u001b[0mn_colors\u001b[0m\u001b[0;34m:\u001b[0m\u001b[0;34m\u001b[0m\u001b[0;34m\u001b[0m\u001b[0m\n\u001b[1;32m    220\u001b[0m                     \u001b[0merr\u001b[0m \u001b[0;34m=\u001b[0m \u001b[0;34m\"The palette list has the wrong number of colors.\"\u001b[0m\u001b[0;34m\u001b[0m\u001b[0;34m\u001b[0m\u001b[0m\n\u001b[0;32m--> 221\u001b[0;31m                     \u001b[0;32mraise\u001b[0m \u001b[0mValueError\u001b[0m\u001b[0;34m(\u001b[0m\u001b[0merr\u001b[0m\u001b[0;34m)\u001b[0m\u001b[0;34m\u001b[0m\u001b[0;34m\u001b[0m\u001b[0m\n\u001b[0m\u001b[1;32m    222\u001b[0m                 \u001b[0mcolors\u001b[0m \u001b[0;34m=\u001b[0m \u001b[0mpalette\u001b[0m\u001b[0;34m\u001b[0m\u001b[0;34m\u001b[0m\u001b[0m\n\u001b[1;32m    223\u001b[0m             \u001b[0;32melse\u001b[0m\u001b[0;34m:\u001b[0m\u001b[0;34m\u001b[0m\u001b[0;34m\u001b[0m\u001b[0m\n",
      "\u001b[0;31mValueError\u001b[0m: The palette list has the wrong number of colors."
     ]
    },
    {
     "data": {
      "image/png": "[encoded data removed]",
      "text/plain": [
       "<Figure size 432x288 with 1 Axes>"
      ]
     },
     "metadata": {},
     "output_type": "display_data"
    }
   ],
   "source": [
    "sns.set(style=\"ticks\")\n",
    "sns.set_palette(\"bright\")\n",
    "sns_col = sns.color_palette(\"bright\", n_colors=4)\n",
    "\n",
    "# Delay amount\n",
    "k = 1 \n",
    "df_improv = dfnew[dfnew.delay == k]\n",
    "df_improv_30 = df_improv[df_improv.AGVs == 30]\n",
    "df_improv_40 = df_improv[df_improv.AGVs == 40]\n",
    "df_improv_50 = df_improv[df_improv.AGVs == 50]\n",
    "df_improv_60 = df_improv[df_improv.AGVs == 60]\n",
    "df_improv_70 = df_improv[df_improv.AGVs == 70]\n",
    "print(\"Delay k = {}\".format(k))\n",
    "print(\" sim count for 30 AGVs: {}\".format(len(df_improv_30.index)))\n",
    "print(\" sim count for 40 AGVs: {}\".format(len(df_improv_40.index)))\n",
    "print(\" sim count for 50 AGVs: {}\".format(len(df_improv_50.index)))\n",
    "print(\" sim count for 60 AGVs: {}\".format(len(df_improv_60.index)))\n",
    "print(\" sim count for 70 AGVs: {}\".format(len(df_improv_70.index)))\n",
    "\n",
    "plt.figure(1)\n",
    "ax = plt.gca()\n",
    "# ax.set(yscale=\"log\")\n",
    "sns.lineplot(x=\"horizon\", y=\"improvement\",\n",
    "            hue=\"AGVs\",\n",
    "            data=df_improv,\n",
    "            palette=sns_col)\n",
    "\n",
    "plt.xlabel(\"Horizon H\")\n",
    "plt.ylabel(\"Improvement [%]\")\n",
    "plt.grid()\n",
    "\n",
    "ax = plt.gca()\n",
    "ax.figure.set_size_inches(7,4)\n",
    "plt.subplots_adjust(left=0.09, bottom=0.13, right=0.98, top=0.98, wspace=None, hspace=None)\n",
    "\n",
    "plt.savefig(save_loc_icaps + \"improvement_vs_horizon_k_1.pdf\", format=\"pdf\", pad_inches=0.01, transparent=True)"
   ]
  },
  {
   "cell_type": "markdown",
   "metadata": {},
   "source": [
    "#### Delay k=10"
   ]
  },
  {
   "cell_type": "code",
   "execution_count": null,
   "metadata": {},
   "outputs": [],
   "source": [
    "sns.set(style=\"ticks\")\n",
    "sns.set_palette(\"bright\")\n",
    "sns_col = sns.color_palette(\"bright\", n_colors=4)\n",
    "\n",
    "# Delay amount\n",
    "k = 10 \n",
    "df_improv = dfnew[dfnew.delay == k]\n",
    "df_improv_30 = df_improv[df_improv.AGVs == 30]\n",
    "df_improv_40 = df_improv[df_improv.AGVs == 40]\n",
    "df_improv_50 = df_improv[df_improv.AGVs == 50]\n",
    "df_improv_60 = df_improv[df_improv.AGVs == 60]\n",
    "df_improv_70 = df_improv[df_improv.AGVs == 70]\n",
    "print(\"Delay k = {}\".format(k))\n",
    "print(\" sim count for 30 AGVs: {}\".format(len(df_improv_30.index)))\n",
    "print(\" sim count for 40 AGVs: {}\".format(len(df_improv_40.index)))\n",
    "print(\" sim count for 50 AGVs: {}\".format(len(df_improv_50.index)))\n",
    "print(\" sim count for 60 AGVs: {}\".format(len(df_improv_60.index)))\n",
    "print(\" sim count for 70 AGVs: {}\".format(len(df_improv_70.index)))\n",
    "\n",
    "plt.figure(2)\n",
    "ax = plt.gca()\n",
    "# ax.set(yscale=\"log\")\n",
    "sns.lineplot(x=\"horizon\", y=\"improvement\",\n",
    "            hue=\"AGVs\",\n",
    "            data=df_improv,\n",
    "            palette=sns_col)\n",
    "\n",
    "plt.xlabel(\"Horizon H\")\n",
    "plt.ylabel(\"Improvement [%]\")\n",
    "plt.grid()\n",
    "\n",
    "ax = plt.gca()\n",
    "ax.figure.set_size_inches(7,4)\n",
    "plt.subplots_adjust(left=0.09, bottom=0.13, right=0.98, top=0.98, wspace=None, hspace=None)\n",
    "\n",
    "# plt.savefig(save_loc_iros + \"improvement_vs_horizon_k_10.pdf\", format=\"pdf\", pad_inches=0.01, transparent=True)\n",
    "plt.savefig(save_loc_icaps + \"improvement_vs_horizon_k_10.pdf\", format=\"pdf\", pad_inches=0.01, transparent=True)"
   ]
  },
  {
   "cell_type": "code",
   "execution_count": null,
   "metadata": {},
   "outputs": [],
   "source": []
  }
 ],
 "metadata": {
  "kernelspec": {
   "display_name": "Python 3",
   "language": "python",
   "name": "python3"
  },
  "language_info": {
   "codemirror_mode": {
    "name": "ipython",
    "version": 3
   },
   "file_extension": ".py",
   "mimetype": "text/x-python",
   "name": "python",
   "nbconvert_exporter": "python",
   "pygments_lexer": "ipython3",
   "version": "3.6.12"
  }
 },
 "nbformat": 4,
 "nbformat_minor": 4
}
